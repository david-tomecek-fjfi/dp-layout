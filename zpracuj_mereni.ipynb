{
 "cells": [
  {
   "cell_type": "code",
   "execution_count": 28,
   "metadata": {},
   "outputs": [],
   "source": [
    "# Imports\n",
    "import os\n",
    "import numpy as np\n",
    "import matplotlib.pyplot as plt"
   ]
  },
  {
   "cell_type": "code",
   "execution_count": 29,
   "metadata": {},
   "outputs": [],
   "source": [
    "class Measurement:\n",
    "    name: str\n",
    "    x: list\n",
    "    y: list\n",
    "    def __init__(self, name: str):\n",
    "        self.name = name\n",
    "    @property\n",
    "    def avg(self):\n",
    "        return np.average(self.y)\n",
    "    \n",
    "    @property\n",
    "    def temp(self):\n",
    "        return float(self.name.split(\"C\")[0])"
   ]
  },
  {
   "cell_type": "code",
   "execution_count": 30,
   "metadata": {},
   "outputs": [],
   "source": [
    "DIR_PATH = r\"mereni3\"\n",
    "measurements = []\n",
    "for f in os.listdir(DIR_PATH):\n",
    "    with open(DIR_PATH + \"\\\\\" + f, \"r\") as file:\n",
    "        lines = file.readlines()\n",
    "        data = [(int(l.split(\"\\t\")[0]), int(l.split(\"\\t\")[1].strip(\"\\n\"))) for l in lines[1:]]\n",
    "        m = Measurement(f.split(\".\")[0])\n",
    "        m.x, m.y = list(zip(*data))\n",
    "        measurements.append(m)"
   ]
  },
  {
   "cell_type": "code",
   "execution_count": 31,
   "metadata": {},
   "outputs": [
    {
     "name": "stdout",
     "output_type": "stream",
     "text": [
      "Counter 1\n",
      "[45.0, 46.0, 47.0, 48.0, 49.0, 50.0, 51.0, 52.0, 53.0, 54.0]\n",
      "[368.572, 826.142, 653.481, 401.291, 703.004, 699.349, 890.056, 800.433, 658.339, 967.002]\n",
      "Counter 2\n",
      "[45.0, 46.0, 47.0, 48.0, 49.0, 50.0, 51.0, 52.0, 53.0, 54.0]\n",
      "[187.605, 390.223, 298.171, 182.553, 294.776, 301.728, 356.526, 300.649, 282.162, 460.772]\n"
     ]
    },
    {
     "data": {
      "image/png": "[encoded data removed]",
      "text/plain": [
       "<Figure size 432x288 with 1 Axes>"
      ]
     },
     "metadata": {
      "needs_background": "light"
     },
     "output_type": "display_data"
    }
   ],
   "source": [
    "m1s = [m for m in measurements if m.name.endswith(\"1\")]\n",
    "m2s = [m for m in measurements if m.name.endswith(\"2\")]\n",
    "\n",
    "print(\"Counter 1\")\n",
    "temps = [m.temp for m in m1s]\n",
    "counts = [m.avg for m in m1s]\n",
    "plt.plot(temps, counts, \".\", label=\"Counter 1\")\n",
    "print(temps)\n",
    "print(counts)\n",
    "\n",
    "print(\"Counter 2\")\n",
    "temps = [m.temp for m in m2s]\n",
    "counts = [m.avg for m in m2s]\n",
    "plt.plot(temps, counts, \".\", label=\"Counter 2\")\n",
    "plt.xlabel(\"Degrees [C°]\")\n",
    "plt.ylabel(\"Counts\")\n",
    "plt.legend()\n",
    "plt.savefig(\"plot3.jpg\")\n",
    "print(temps)\n",
    "print(counts)"
   ]
  }
 ],
 "metadata": {
  "interpreter": {
   "hash": "9c104d7ea7c29585d7bb9e437c91342143b4dab0cf46906ab42b4dd83ab92bd1"
  },
  "kernelspec": {
   "display_name": "Python 3.9.0 ('env': venv)",
   "language": "python",
   "name": "python3"
  },
  "language_info": {
   "codemirror_mode": {
    "name": "ipython",
    "version": 3
   },
   "file_extension": ".py",
   "mimetype": "text/x-python",
   "name": "python",
   "nbconvert_exporter": "python",
   "pygments_lexer": "ipython3",
   "version": "3.10.2"
  },
  "orig_nbformat": 4
 },
 "nbformat": 4,
 "nbformat_minor": 2
}
