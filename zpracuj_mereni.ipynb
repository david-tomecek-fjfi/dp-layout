{
 "cells": [
  {
   "cell_type": "code",
   "execution_count": 11,
   "metadata": {},
   "outputs": [],
   "source": [
    "# Imports\n",
    "import os\n",
    "import numpy as np\n",
    "import matplotlib.pyplot as plt"
   ]
  },
  {
   "cell_type": "code",
   "execution_count": 32,
   "metadata": {},
   "outputs": [],
   "source": [
    "class Measurement:\n",
    "    name: str\n",
    "    x: list\n",
    "    y: list\n",
    "    def __init__(self, name: str):\n",
    "        self.name = name\n",
    "    @property\n",
    "    def avg(self):\n",
    "        return np.average(self.y)\n",
    "    \n",
    "    @property\n",
    "    def temp(self):\n",
    "        return float(self.name.split(\"C\")[0])"
   ]
  },
  {
   "cell_type": "code",
   "execution_count": 44,
   "metadata": {},
   "outputs": [],
   "source": [
    "DIR_PATH = r\"mereni\"\n",
    "measurements = []\n",
    "for f in os.listdir(DIR_PATH):\n",
    "    with open(DIR_PATH + \"\\\\\" + f, \"r\") as file:\n",
    "        lines = file.readlines()\n",
    "        data = [(int(l.split(\"\\t\")[0]), int(l.split(\"\\t\")[1].strip(\"\\n\"))) for l in lines[1:]]\n",
    "        m = Measurement(f.split(\".\")[0])\n",
    "        m.x, m.y = list(zip(*data))\n",
    "        measurements.append(m)"
   ]
  },
  {
   "cell_type": "code",
   "execution_count": 49,
   "metadata": {},
   "outputs": [
    {
     "name": "stdout",
     "output_type": "stream",
     "text": [
      "Counter 1\n",
      "[30.0, 33.0, 35.0, 36.0, 38.0, 39.0, 40.0, 41.0, 42.0, 43.0, 44.0, 45.0, 46.0, 47.0, 48.0, 49.0, 50.0, 51.0, 52.0, 53.0]\n",
      "[229.86, 223.85, 235.08, 243.46, 255.95, 261.13, 261.12, 289.41, 307.11, 318.17, 350.09, 363.76, 389.23, 410.7, 471.24, 495.83, 485.49, 517.49, 531.33, 530.22]\n",
      "Counter 2\n",
      "[30.0, 33.0, 35.0, 36.0, 37.0, 38.0, 39.0, 40.0, 41.0, 42.0, 43.0, 44.0, 45.0, 46.0, 47.0, 48.0, 49.0, 50.0, 51.0, 52.0, 53.0]\n",
      "[286.45, 242.15, 243.09, 246.94, 246.52, 246.6, 246.28, 241.49, 267.87, 278.03, 287.19, 306.72, 313.19, 334.06, 347.14, 398.85, 408.94, 390.07, 407.16, 408.16, 395.33]\n"
     ]
    },
    {
     "data": {
      "image/png": "[encoded data removed]",
      "text/plain": [
       "<Figure size 432x288 with 1 Axes>"
      ]
     },
     "metadata": {
      "needs_background": "light"
     },
     "output_type": "display_data"
    }
   ],
   "source": [
    "m1s = [m for m in measurements if m.name.endswith(\"1\")]\n",
    "m2s = [m for m in measurements if m.name.endswith(\"2\")]\n",
    "\n",
    "print(\"Counter 1\")\n",
    "temps = [m.temp for m in m1s]\n",
    "counts = [m.avg for m in m1s]\n",
    "plt.plot(temps, counts, \".\", label=\"Counter 1\")\n",
    "print(temps)\n",
    "print(counts)\n",
    "\n",
    "print(\"Counter 2\")\n",
    "temps = [m.temp for m in m2s]\n",
    "counts = [m.avg for m in m2s]\n",
    "plt.plot(temps, counts, \".\", label=\"Counter 2\")\n",
    "plt.legend()\n",
    "print(temps)\n",
    "print(counts)"
   ]
  }
 ],
 "metadata": {
  "interpreter": {
   "hash": "9c104d7ea7c29585d7bb9e437c91342143b4dab0cf46906ab42b4dd83ab92bd1"
  },
  "kernelspec": {
   "display_name": "Python 3.9.0 ('env': venv)",
   "language": "python",
   "name": "python3"
  },
  "language_info": {
   "codemirror_mode": {
    "name": "ipython",
    "version": 3
   },
   "file_extension": ".py",
   "mimetype": "text/x-python",
   "name": "python",
   "nbconvert_exporter": "python",
   "pygments_lexer": "ipython3",
   "version": "3.9.0"
  },
  "orig_nbformat": 4
 },
 "nbformat": 4,
 "nbformat_minor": 2
}
