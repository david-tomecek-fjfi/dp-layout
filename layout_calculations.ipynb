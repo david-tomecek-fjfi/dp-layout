{
 "cells": [
  {
   "cell_type": "code",
   "execution_count": 1,
   "metadata": {},
   "outputs": [
    {
     "name": "stderr",
     "output_type": "stream",
     "text": [
      "'C:\\Users\\david\\OneDrive\\Plocha\\�kola\\p���k\\Diplomov�' is not recognized as an internal or external command,\n",
      "operable program or batch file.\n"
     ]
    }
   ],
   "source": [
    "import sys\n",
    "!{sys.executable} -m pip install --user optix\n",
    "\n",
    "import matplotlib.pyplot as plt\n",
    "import numpy as np\n",
    "from optix.beams import *\n",
    "from optix.ABCDformalism import *\n",
    "from optix.optical_system import *\n",
    "\n",
    "\n",
    "\n",
    "def custom_str_repr(gb: GaussianBeam) -> str:\n",
    "    return f\"\"\"\n",
    "    waist_loc\\t=\\t{gb.waist_location*10**2} cm\n",
    "    waist_rad\\t=\\t{gb.waist_radius*10**3} mm\n",
    "    ray_range\\t=\\t{gb.rayleigh_range*10**3} mm\n",
    "    divergence\\t=\\t{gb.divergence*10**3} mrad\n",
    "    \"\"\"\n",
    "def print_gb(gb: GaussianBeam) -> str:\n",
    "    print(custom_str_repr(gb))"
   ]
  },
  {
   "cell_type": "markdown",
   "metadata": {},
   "source": [
    "# Gaussovský svazek na výstupu z vlákna\n",
    "Vlákno je označeno OE-000592. Bohužel na stránce TOPTICY žádné takové nanabízejí. Proto počítám se sepcifikami vláken https://www.toptica.com/products/optical-isolators-photonicals/photonicals/optical-fibers.\n",
    "\n",
    "Pro získání Rayleigho vzdálenosti využit vzorec https://www.thorlabs.com/newgrouppage9.cfm?objectgroup_id=14204"
   ]
  },
  {
   "cell_type": "code",
   "execution_count": 2,
   "metadata": {},
   "outputs": [
    {
     "name": "stdout",
     "output_type": "stream",
     "text": [
      "\n",
      "    waist_loc\t=\t0 cm\n",
      "    waist_rad\t=\t0.00175 mm\n",
      "    ray_range\t=\t0.02375587037436727 mm\n",
      "    divergence\t=\t73.66600223110584 mrad\n",
      "    \n"
     ]
    },
    {
     "data": {
      "text/plain": [
       "Text(0, 0.5, 'Beam diameter [mm]')"
      ]
     },
     "execution_count": 2,
     "metadata": {},
     "output_type": "execute_result"
    },
    {
     "data": {
      "image/png": "[encoded data removed]",
      "text/plain": [
       "<Figure size 432x288 with 1 Axes>"
      ]
     },
     "metadata": {
      "needs_background": "light"
     },
     "output_type": "display_data"
    }
   ],
   "source": [
    "MFD = 3.5e-6\n",
    "WAVE_LENGTH = 405e-9\n",
    "w0 = MFD/2 \n",
    "fiber_out = GaussianBeam(WAVE_LENGTH, w0=w0)\n",
    "print_gb(fiber_out)\n",
    "\n",
    "\n",
    "z = np.linspace(0, 0.1, 100)\n",
    "w = fiber_out.beam_radius(z)\n",
    "plt.plot(z*10**2, w*10**3)\n",
    "plt.xlabel(\"Distance [cm]\")\n",
    "plt.ylabel(\"Beam diameter [mm]\")\n"
   ]
  },
  {
   "cell_type": "markdown",
   "metadata": {},
   "source": [
    "# Šíření svazku krystalem\n",
    "Předpoklad šíření podél osy $x$ přičemž čerpání je polarizováno horizontálně podél osy $y$. Posléze se generuje horizontální ($x$) a vertikální ($z$) fotony. Krystal od firmy Raicol má dimenze $1\\times1\\times2 mm$ a periodu pĺování $\\Lambda = 10.025 \\mu m$. Krystal KTP je dvojosý materiál s index lomu podél krystalografický os ($\\lambda$ je v $\\mu m$)\n",
    "    $$ \n",
    "        n_x^2 = 3.29100 + \\frac{0.04140}{\\lambda^2 - 0.03978} + \\frac{9.35522}{\\lambda^2 - 31.45571} \\\\\n",
    "        n_y^2 = 3.45018 + \\frac{0.04341}{\\lambda^2 - 0.04597} + \\frac{16.98825}{\\lambda^2 - 39.43799} \\\\\n",
    "        n_z^2 = 4.59423 + \\frac{0.06206}{\\lambda^2 - 0.04763} + \\frac{110.80672}{\\lambda^2 - 86.12171}\n",
    "    $$\n",
    "\n",
    "\n",
    "Dle https://journals.aps.org/pra/abstract/10.1103/PhysRevA.81.053805 dochází k nejoptimálnější generaci SPDC při hodnotě kofokálního parametru $\\xi_s \\approx \\xi_i \\approx \\xi_p \\approx 2.84$. Přičemž platí, že \n",
    "    $$\\xi_j = \\frac{L}{k_j w_j^2},$$\n",
    "kde $L$ je délka krystalu, $k_j$ je odpovídající vlnové číslo a $w_j$ je velikost krčku Gaussovského svazku. Tedy podmínka na velikost krčku je \n",
    "    $$w_j = \\sqrt{\\frac{L}{k_j \\xi_j}} \\approx \\sqrt{\\frac{L}{2.84 \\cdot k_j }}, \\quad k_j = \\frac{\\omega_j}{c} \\cdot n_j(\\omega_j).$$\n"
   ]
  },
  {
   "cell_type": "code",
   "execution_count": 3,
   "metadata": {},
   "outputs": [],
   "source": [
    "LIGHT_SPEED = 299_792_458\n",
    "def KTP_n_x(wl) -> float:\n",
    "    return math.sqrt(3.29100 + 0.04140 / (wl**2 - 0.03978) + 9.35522 / (wl**2 - 31.45571))\n",
    "\n",
    "def KTP_n_y(wl) -> float:\n",
    "    return math.sqrt(3.45018 + 0.04341 / (wl**2 - 0.04597) + 16.98825 / (wl**2 - 39.43799))\n",
    "\n",
    "def KTP_n_z(wl) -> float:\n",
    "    return math.sqrt(4.59423 + 0.06206 / (wl**2 - 0.04763) + 110.80672 / (wl**2 - 86.12171))\n",
    "\n",
    "def to_freq(wl) -> float:\n",
    "    \"\"\"Converts wavelength to angular frequency\"\"\"\n",
    "    return 2 * math.pi * LIGHT_SPEED / wl\n",
    "\n",
    "def to_wavelength(freq) -> float:\n",
    "    \"\"\"Converts angular frequency to wavelength\"\"\"\n",
    "    return 2 * math.pi * LIGHT_SPEED / freq"
   ]
  },
  {
   "cell_type": "code",
   "execution_count": 4,
   "metadata": {},
   "outputs": [
    {
     "name": "stdout",
     "output_type": "stream",
     "text": [
      "Optimal focus in crystal of length 20.0mm:\n",
      "\n",
      "    n_p = 1.4405242023903018, omega_p = 4650991524219391.0s^-1, k_p = 22348346.921223056m^-1, w_p = 17.751421063770742 um\n",
      "    n_s = 1.4405242023903018, omega_s = 2325495762109695.5s^-1, k_s = 11174173.460611528m^-1, w_s = 25.104300419780017 um\n",
      "    n_i = 1.4158532155790764, omega_i = 2325495762109695.5s^-1, k_i = 10982800.149690649m^-1, w_i = 25.322074799497845 um\n",
      "\n"
     ]
    }
   ],
   "source": [
    "CRYSTAL_LENGTH = 2e-2 # 2cm krystal od Raicolu\n",
    "FOCAL_PARAM = 2.84 #optimum 2.84\n",
    "\n",
    "n_p = KTP_n_y(WAVE_LENGTH*10**(-3)) # Pump je horizontálne polarizovaný, vkládám v mikrometrech\n",
    "n_s = KTP_n_y(WAVE_LENGTH*10**(-3)*2)\n",
    "n_i = KTP_n_z(WAVE_LENGTH*10**(-3)*2)\n",
    "\n",
    "omega_p = to_freq(WAVE_LENGTH)\n",
    "omega_s = to_freq(WAVE_LENGTH * 2)\n",
    "omega_i = to_freq(WAVE_LENGTH * 2)\n",
    "\n",
    "# Vlnové číslo příslušné polarizace již v KTP krystalu\n",
    "k_p = omega_p / LIGHT_SPEED * n_p  \n",
    "k_s = omega_s / LIGHT_SPEED * n_s\n",
    "k_i = omega_i / LIGHT_SPEED * n_i\n",
    "\n",
    "# Optimální šířka krčku v krystalu příslušného svazku\n",
    "w_p = math.sqrt(CRYSTAL_LENGTH / (FOCAL_PARAM * k_p))\n",
    "w_s = math.sqrt(CRYSTAL_LENGTH / (FOCAL_PARAM * k_s))\n",
    "w_i = math.sqrt(CRYSTAL_LENGTH / (FOCAL_PARAM * k_i))\n",
    "\n",
    "focus_info = f\"\"\"\n",
    "    n_p = {n_p}, omega_p = {omega_p}s^-1, k_p = {k_p}m^-1, w_p = {w_p*10**6} um\n",
    "    n_s = {n_s}, omega_s = {omega_s}s^-1, k_s = {k_s}m^-1, w_s = {w_s*10**6} um\n",
    "    n_i = {n_i}, omega_i = {omega_i}s^-1, k_i = {k_i}m^-1, w_i = {w_i*10**6} um\n",
    "\"\"\"\n",
    "print(f\"Optimal focus in crystal of length {CRYSTAL_LENGTH*10**3}mm:\")\n",
    "print(focus_info)"
   ]
  },
  {
   "cell_type": "code",
   "execution_count": 5,
   "metadata": {},
   "outputs": [],
   "source": [
    "# Nastavuji aby se při printování Gausovského svazku defaultně zobrazila i informace o parametru xi\n",
    "def custom_str_repr_xi(gb: GaussianBeam) -> str:\n",
    "    return f\"\"\"\n",
    "    waist_loc   =\\t{gb.waist_location*10**2} cm\n",
    "    waist_rad   =\\t{gb.waist_radius*10**3} mm\n",
    "    ray_range   =\\t{gb.rayleigh_range*10**3} mm\n",
    "    divergence  =\\t{gb.divergence*10**3} mrad\n",
    "    xi          =\\t{CRYSTAL_LENGTH / (gb.waist_radius**2 * k_p) }\n",
    "    \"\"\"\n",
    "\n",
    "def print_gb_xi(gb: GaussianBeam) -> str:\n",
    "    print(custom_str_repr_xi(gb))\n"
   ]
  },
  {
   "cell_type": "markdown",
   "metadata": {},
   "source": [
    "# Propagace systémem"
   ]
  },
  {
   "cell_type": "code",
   "execution_count": 6,
   "metadata": {},
   "outputs": [],
   "source": [
    "from __future__ import annotations\n",
    "N_BK7 = 1.5302 # Na 405nm\n",
    "\n",
    "class TheLayout(OpticalPath):\n",
    "    d_c: float # Poloha kolimační čočky (zafixuji aby odpovídala ohnisku)\n",
    "    f_c: float # Ohnisková vzdálenost kolimační čočky\n",
    "    d_f: float # Poloha fokusační čočky\n",
    "    f_f: float # Ohnisko fokusační čočky\n",
    "    d_cr: float # Poloha středu krystalu\n",
    "\n",
    "    COLIMATION_LENSES = {\n",
    "    25e-3: PlanoConvexLens(R=13.1e-3, n=N_BK7, d=11.7e-3),             # <--- Thorlabs LA1951-A, 25mm\n",
    "    35e-3: PlanoConvexLens(R=18e-3, n=N_BK7, d=7e-3),                  # <--- Thorlabs LA1027-A, 35mm\n",
    "    50e-3: PlanoConvexLens(R=25.8e-3, n=N_BK7, d=5.3e-3)               # <--- ThorLabs LA1131-A, 50mm\n",
    "    }\n",
    "\n",
    "    FOCUSING_LENSES = [100e-3, 125e-3, 150e-3, 200e-3, 250e-3, 300e-3, 400e-3]\n",
    "\n",
    "\n",
    "    def build(self):\n",
    "        self.clear()\n",
    "        self.build_colimation_stage()\n",
    "        self.build_focusing_stage()\n",
    "        self.build_crystal_propagation()\n",
    "\n",
    "    def clear(self):\n",
    "        self._elements = []\n",
    "\n",
    "    def build_colimation_stage(self) -> None:\n",
    "        self.append(FreeSpace(self.d_c))\n",
    "        self.append(self.COLIMATION_LENSES[self.f_c])                                        \n",
    "\n",
    "    def build_focusing_stage(self) -> None:\n",
    "        self.append(FreeSpace(self.d_f))\n",
    "        self.append(ThinLens(self.f_f))                                   \n",
    "\n",
    "    def build_crystal_propagation(self) -> None:\n",
    "        self.append(FreeSpace(self.d_cr - CRYSTAL_LENGTH/2))              \n",
    "        self.append(FlatInterface(1, n_p))\n",
    "        self.append(FreeSpace(CRYSTAL_LENGTH/2))\n",
    "\n",
    "    def clone(self) -> TheLayout:\n",
    "        l = TheLayout()\n",
    "        l.d_c = self.d_c\n",
    "        l.f_c = self.f_c\n",
    "        l.d_f = self.d_f\n",
    "        l.f_f = self.f_f\n",
    "        l.d_cr = self.d_cr\n",
    "        return l\n",
    "\n",
    "    def __str__(self) -> str:\n",
    "        return f\"\"\"\n",
    "            d_col       =   {self.d_c*10**3}mm,\n",
    "            f_col       =   {self.f_c*10**3}mm,\n",
    "            d_focus     =   {self.d_f*10**3}mm,\n",
    "            f_focus     =   {self.f_f*10**3}mm,\n",
    "            d_crystal   =  {self.d_cr*10**3}mm\n",
    "        \"\"\"\n",
    "\n",
    "\n"
   ]
  },
  {
   "cell_type": "code",
   "execution_count": 7,
   "metadata": {},
   "outputs": [
    {
     "name": "stdout",
     "output_type": "stream",
     "text": [
      "\n",
      "    waist_loc   =\t40.491631122763 cm\n",
      "    waist_rad   =\t0.013855362244704251 mm\n",
      "    ray_range   =\t1.4891231629849873 mm\n",
      "    divergence  =\t9.304376286062737 mrad\n",
      "    xi          =\t4.661748305793545\n",
      "    \n"
     ]
    },
    {
     "name": "stderr",
     "output_type": "stream",
     "text": [
      "C:\\Users\\david\\OneDrive\\Plocha\\škola\\páťák\\Diplomová práce\\codes\\layout\\env\\lib\\site-packages\\optix\\optical_system.py:53: UserWarning: Matplotlib is currently using module://matplotlib_inline.backend_inline, which is a non-GUI backend, so cannot show the figure.\n",
      "  self.draw().show()\n"
     ]
    },
    {
     "data": {
      "image/png": "[encoded data removed]",
      "text/plain": [
       "<Figure size 432x288 with 1 Axes>"
      ]
     },
     "metadata": {
      "needs_background": "light"
     },
     "output_type": "display_data"
    }
   ],
   "source": [
    "gauss_in = fiber_out\n",
    "layout = TheLayout()\n",
    "layout.f_c = 2.5e-2\n",
    "layout.d_c = TheLayout.COLIMATION_LENSES[layout.f_c].f - 7e-3\n",
    "layout.d_f = 250e-3\n",
    "layout.f_f = 150e-3\n",
    "layout.d_cr = 13.1e-2\n",
    "\n",
    "layout.build_colimation_stage()\n",
    "layout.build_focusing_stage()\n",
    "layout.build_crystal_propagation()\n",
    "layout.append(FreeSpace(0.2))\n",
    "\n",
    "gauss_out = layout.propagate(gauss_in)\n",
    "print_gb_xi(gauss_out)\n",
    "Drawer(layout, gauss_in, z_unit=\"cm\", w_unit=\"mm\", color=\"red\").show()\n"
   ]
  }
 ],
 "metadata": {
  "interpreter": {
   "hash": "d65f8af9b1347936d5c0a715a1a101b7602968bee42a1bc2161adfc924f1cbb0"
  },
  "kernelspec": {
   "display_name": "Python 3",
   "language": "python",
   "name": "python3"
  },
  "language_info": {
   "codemirror_mode": {
    "name": "ipython",
    "version": 3
   },
   "file_extension": ".py",
   "mimetype": "text/x-python",
   "name": "python",
   "nbconvert_exporter": "python",
   "pygments_lexer": "ipython3",
   "version": "3.9.0"
  }
 },
 "nbformat": 4,
 "nbformat_minor": 2
}
