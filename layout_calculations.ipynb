{
 "cells": [
  {
   "cell_type": "code",
   "execution_count": 1,
   "metadata": {},
   "outputs": [],
   "source": [
    "import matplotlib.pyplot as plt\n",
    "import numpy as np\n",
    "# from matrixopt.models import *\n",
    "from math import pi, sqrt\n",
    "\n",
    "\n",
    "# Přepočty z https://www.thorlabs.com/newgrouppage9.cfm?objectgroup_id=14204\n",
    "def calculate_rayleigh_range(mfd, wave_length) -> float:\n",
    "    return pi / wave_length * (mfd / 2)**2\n",
    "\n",
    "def calculate_q_param(z, z_r, z_waist=0) -> complex:\n",
    "    return complex(z - z_waist, z_r)\n",
    "\n",
    "def calculate_fiber_beam_radius_at_z(z, z_r, mfd) -> float:\n",
    "    return mfd/2 * sqrt(1 + (z/z_r)**2)"
   ]
  },
  {
   "cell_type": "markdown",
   "metadata": {},
   "source": [
    "# Gaussovský svazek na výstupu zvlákna"
   ]
  },
  {
   "cell_type": "code",
   "execution_count": 35,
   "metadata": {},
   "outputs": [
    {
     "data": {
      "text/plain": [
       "Text(0, 0.5, 'Beam diameter [mm]')"
      ]
     },
     "execution_count": 35,
     "metadata": {},
     "output_type": "execute_result"
    },
    {
     "data": {
      "image/png": "[encoded data removed]",
      "text/plain": [
       "<Figure size 432x288 with 1 Axes>"
      ]
     },
     "metadata": {
      "needs_background": "light"
     },
     "output_type": "display_data"
    }
   ],
   "source": [
    "# Toptica OE-000592 je real -> https://www.toptica.com/products/optical-isolators-photonicals/photonicals/optical-fibers\n",
    "MODAL_FIELD_DIAMETER = 3.5e-6\n",
    "NA = 0.07\n",
    "WL = 405e-9\n",
    "\n",
    "\n",
    "z_r = calculate_rayleigh_range(MODAL_FIELD_DIAMETER, WL)\n",
    "# q = calculate_q_param()\n",
    "distance_in_mm = np.linspace(0,100,1000)\n",
    "beam_radius = [calculate_fiber_beam_radius_at_z(d*10**(-3), z_r, MODAL_FIELD_DIAMETER) for d in distance_in_mm]\n",
    "beam_radius_in_mm = [br*10**(3) for br in beam_radius]\n",
    "plt.plot(distance_in_mm, beam_radius_in_mm)\n",
    "plt.xlabel(\"Distance [mm]\")\n",
    "plt.ylabel(\"Beam diameter [mm]\")\n"
   ]
  },
  {
   "cell_type": "code",
   "execution_count": 10,
   "metadata": {},
   "outputs": [],
   "source": [
    "def get_beam_diameter(q_start: complex, wl, n, z: float) -> float:\n",
    "    \"\"\"_summary_\n",
    "\n",
    "    Args:\n",
    "        q_start (complex): q param ..\n",
    "        wl (_type_): wavelength\n",
    "        n (_type_): refractive index\n",
    "    \"\"\"\n",
    "    q_z = q_start + z\n",
    "    imag_inverse_q_z = (1/q_z).imag\n",
    "    return sqrt(-(wl / (n * pi * imag_inverse_q_z)))\n",
    "\n",
    "def get_waist_location(current_z: float, q: complex) -> float:\n",
    "    # q = z - z0 + iz_r -> z0 = Real(q) - z\n",
    "    return current_z - q.real\n"
   ]
  },
  {
   "cell_type": "markdown",
   "metadata": {},
   "source": [
    "# Propagace systémem"
   ]
  },
  {
   "cell_type": "code",
   "execution_count": 85,
   "metadata": {},
   "outputs": [
    {
     "name": "stdout",
     "output_type": "stream",
     "text": [
      "w_loc: 129.28700894494435cm\n",
      "w0: 0.06111057207962586mm\n",
      "divergence: 0.12086785945045879stupnu\n"
     ]
    }
   ],
   "source": [
    "from matrixopt.matrixopt.matrix_optics import *\n",
    "# from scipy import optimize\n",
    "\n",
    "# LAYOUT START\n",
    "q_in = calculate_q_param(0,z_r)\n",
    "\n",
    "d1 = 3.6e-2\n",
    "lens1 = ThinLens(f=3.5e-2)\n",
    "d2 = 10e-2\n",
    "lens2 = ThinLens(f=150e-3)\n",
    "op = OpticalPath(d1, lens1, d2, lens2)\n",
    "\n",
    "q_out = op.propagate(q_in)\n",
    "# LAYOUT END\n",
    "\n",
    "\n",
    "\n",
    "\n",
    "# DATA\n",
    "w_loc = get_waist_location(q_out, d1 + d2)\n",
    "zr = q_out.imag\n",
    "w0 = sqrt((WL * zr) / pi)\n",
    "divergence = WL/(pi * 1 * w0)\n",
    "\n",
    "print(f\"w_loc: {w_loc*10**2}cm\")\n",
    "print(f\"w0: {w0*10**3}mm\")\n",
    "print(f\"divergence: {divergence*57.2957}stupnu\")\n",
    "\n",
    "\n"
   ]
  }
 ],
 "metadata": {
  "interpreter": {
   "hash": "d65f8af9b1347936d5c0a715a1a101b7602968bee42a1bc2161adfc924f1cbb0"
  },
  "kernelspec": {
   "display_name": "Python 3.9.0 64-bit",
   "language": "python",
   "name": "python3"
  },
  "language_info": {
   "codemirror_mode": {
    "name": "ipython",
    "version": 3
   },
   "file_extension": ".py",
   "mimetype": "text/x-python",
   "name": "python",
   "nbconvert_exporter": "python",
   "pygments_lexer": "ipython3",
   "version": "3.10.2"
  },
  "orig_nbformat": 4
 },
 "nbformat": 4,
 "nbformat_minor": 2
}
