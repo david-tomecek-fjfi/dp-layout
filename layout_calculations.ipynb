{
 "cells": [
  {
   "cell_type": "code",
   "execution_count": 1,
   "metadata": {},
   "outputs": [],
   "source": [
    "import matplotlib.pyplot as plt\n",
    "import numpy as np\n",
    "from optix import *\n",
    "\n",
    "def custom_str_repr(gb: GaussianBeam) -> str:\n",
    "    return f\"\"\"\n",
    "    waist_loc\\t=\\t{gb.waist_location*10**2} cm\n",
    "    waist_rad\\t=\\t{gb.waist_radius*10**3} mm\n",
    "    ray_range\\t=\\t{gb.rayleigh_range*10**3} mm\n",
    "    divergence\\t=\\t{gb.divergence*10**3} mrad\n",
    "    \"\"\"\n",
    "GaussianBeam.__str__ = custom_str_repr"
   ]
  },
  {
   "cell_type": "markdown",
   "metadata": {},
   "source": [
    "# Gaussovský svazek na výstupu z vlákna\n",
    "Vlákno je označeno OE-000592. Bohužel na stránce TOPTICY žádné takové nanabízejí. Proto počítám se sepcifikami vláken https://www.toptica.com/products/optical-isolators-photonicals/photonicals/optical-fibers.\n",
    "\n",
    "Pro získání Rayleigho vzdálenosti využit vzorec https://www.thorlabs.com/newgrouppage9.cfm?objectgroup_id=14204"
   ]
  },
  {
   "cell_type": "code",
   "execution_count": 2,
   "metadata": {},
   "outputs": [
    {
     "name": "stdout",
     "output_type": "stream",
     "text": [
      "\n",
      "    waist_loc\t=\t0 cm\n",
      "    waist_rad\t=\t0.00175 mm\n",
      "    ray_range\t=\t0.02375587037436727 mm\n",
      "    divergence\t=\t73.66600223110584 mrad\n",
      "    \n"
     ]
    },
    {
     "data": {
      "text/plain": [
       "Text(0, 0.5, 'Beam diameter [mm]')"
      ]
     },
     "execution_count": 2,
     "metadata": {},
     "output_type": "execute_result"
    },
    {
     "data": {
      "image/png": "[encoded data removed]",
      "text/plain": [
       "<Figure size 432x288 with 1 Axes>"
      ]
     },
     "metadata": {
      "needs_background": "light"
     },
     "output_type": "display_data"
    }
   ],
   "source": [
    "MFD = 3.5e-6\n",
    "WAVE_LENGTH = 405e-9\n",
    "w0 = MFD/2 \n",
    "fiber_out = GaussianBeam(WAVE_LENGTH, w0=w0)\n",
    "print(fiber_out)\n",
    "\n",
    "\n",
    "z = np.linspace(0, 0.1, 100)\n",
    "w = fiber_out.beam_radius(z)\n",
    "plt.plot(z*10**2, w*10**3)\n",
    "plt.xlabel(\"Distance [cm]\")\n",
    "plt.ylabel(\"Beam diameter [mm]\")\n"
   ]
  },
  {
   "cell_type": "markdown",
   "metadata": {},
   "source": [
    "# Šíření svazku krystalem\n",
    "Předpoklad šíření podél osy $x$ přičemž čerpání je polarizováno horizontálně podél osy $y$. Posléze se generuje horizontální ($x$) a vertikální ($z$) fotony. Krystal od firmy Raicol má dimenze $1\\times1\\times2 mm$ a periodu pĺování $\\Lambda = 10.025 \\mu m$. Krystal KTP je dvojosý materiál s index lomu podél krystalografický os ($\\lambda$ je v $\\mu m$)\n",
    "    $$ \n",
    "        n_x^2 = 3.29100 + \\frac{0.04140}{\\lambda^2 - 0.03978} + \\frac{9.35522}{\\lambda^2 - 31.45571} \\\\\n",
    "        n_y^2 = 3.45018 + \\frac{0.04341}{\\lambda^2 - 0.04597} + \\frac{16.98825}{\\lambda^2 - 39.43799} \\\\\n",
    "        n_z^2 = 4.59423 + \\frac{0.06206}{\\lambda^2 - 0.04763} + \\frac{110.80672}{\\lambda^2 - 86.12171}\n",
    "    $$\n",
    "\n",
    "\n",
    "Dle https://journals.aps.org/pra/abstract/10.1103/PhysRevA.81.053805 dochází k nejoptimálnější generaci SPDC při hodnotě kofokálního parametru $\\xi_s \\approx \\xi_i \\approx \\xi_p \\approx 2.84$. Přičemž platí, že \n",
    "    $$\\xi_j = \\frac{L}{k_j w_j^2},$$\n",
    "kde $L$ je délka krystalu, $k_j$ je odpovídající vlnové číslo a $w_j$ je velikost krčku Gaussovského svazku. Tedy podmínka na velikost krčku je \n",
    "    $$w_j = \\sqrt{\\frac{L}{k_j \\xi_j}} \\approx \\sqrt{\\frac{L}{2.84 \\cdot k_j }}, \\quad k_j = \\frac{\\omega_j}{c} \\cdot n_j(\\omega_j).$$\n"
   ]
  },
  {
   "cell_type": "code",
   "execution_count": 3,
   "metadata": {},
   "outputs": [],
   "source": [
    "LIGHT_SPEED = 299_792_458\n",
    "def KTP_n_x(wl) -> float:\n",
    "    return math.sqrt(3.29100 + 0.04140 / (wl**2 - 0.03978) + 9.35522 / (wl**2 - 31.45571))\n",
    "\n",
    "def KTP_n_y(wl) -> float:\n",
    "    return math.sqrt(3.45018 + 0.04341 / (wl**2 - 0.04597) + 16.98825 / (wl**2 - 39.43799))\n",
    "\n",
    "def KTP_n_z(wl) -> float:\n",
    "    return math.sqrt(4.59423 + 0.06206 / (wl**2 - 0.04763) + 110.80672 / (wl**2 - 86.12171))\n",
    "\n",
    "def to_freq(wl) -> float:\n",
    "    \"\"\"Converts wavelength to angular frequency\"\"\"\n",
    "    return 2 * math.pi * LIGHT_SPEED / wl\n",
    "\n",
    "def to_wavelength(freq) -> float:\n",
    "    \"\"\"Converts angular frequency to wavelength\"\"\"\n",
    "    return 2 * math.pi * LIGHT_SPEED / freq"
   ]
  },
  {
   "cell_type": "code",
   "execution_count": 4,
   "metadata": {},
   "outputs": [
    {
     "name": "stdout",
     "output_type": "stream",
     "text": [
      "Optimal focus in crystal of length 20.0mm:\n",
      "\n",
      "    n_p = 1.4405242023903018, omega_p = 4650991524219391.0s^-1, k_p = 22348346.921223056m^-1, w_p = 17.751421063770742 um\n",
      "    n_s = 1.4405242023903018, omega_s = 2325495762109695.5s^-1, k_s = 11174173.460611528m^-1, w_s = 25.104300419780017 um\n",
      "    n_i = 1.4158532155790764, omega_i = 2325495762109695.5s^-1, k_i = 10982800.149690649m^-1, w_i = 25.322074799497845 um\n",
      "\n"
     ]
    }
   ],
   "source": [
    "CRYSTAL_LENGTH = 2e-2 # 2cm krystal od Raicolu\n",
    "FOCAL_PARAM = 2.84 #optimum 2.84\n",
    "\n",
    "n_p = KTP_n_y(WAVE_LENGTH*10**(-3)) # Pump je horizontálne polarizovaný, vkládám v mikrometrech\n",
    "n_s = KTP_n_y(WAVE_LENGTH*10**(-3)*2)\n",
    "n_i = KTP_n_z(WAVE_LENGTH*10**(-3)*2)\n",
    "\n",
    "omega_p = to_freq(WAVE_LENGTH)\n",
    "omega_s = to_freq(WAVE_LENGTH * 2)\n",
    "omega_i = to_freq(WAVE_LENGTH * 2)\n",
    "\n",
    "# Vlnové číslo příslušné polarizace již v KTP krystalu\n",
    "k_p = omega_p / LIGHT_SPEED * n_p  \n",
    "k_s = omega_s / LIGHT_SPEED * n_s\n",
    "k_i = omega_i / LIGHT_SPEED * n_i\n",
    "\n",
    "# Optimální šířka krčku v krystalu příslušného svazku\n",
    "w_p = math.sqrt(CRYSTAL_LENGTH / (FOCAL_PARAM * k_p))\n",
    "w_s = math.sqrt(CRYSTAL_LENGTH / (FOCAL_PARAM * k_s))\n",
    "w_i = math.sqrt(CRYSTAL_LENGTH / (FOCAL_PARAM * k_i))\n",
    "\n",
    "focus_info = f\"\"\"\n",
    "    n_p = {n_p}, omega_p = {omega_p}s^-1, k_p = {k_p}m^-1, w_p = {w_p*10**6} um\n",
    "    n_s = {n_s}, omega_s = {omega_s}s^-1, k_s = {k_s}m^-1, w_s = {w_s*10**6} um\n",
    "    n_i = {n_i}, omega_i = {omega_i}s^-1, k_i = {k_i}m^-1, w_i = {w_i*10**6} um\n",
    "\"\"\"\n",
    "print(f\"Optimal focus in crystal of length {CRYSTAL_LENGTH*10**3}mm:\")\n",
    "print(focus_info)"
   ]
  },
  {
   "cell_type": "markdown",
   "metadata": {},
   "source": [
    "# Propagace systémem"
   ]
  },
  {
   "cell_type": "code",
   "execution_count": 30,
   "metadata": {},
   "outputs": [],
   "source": [
    "from __future__ import annotations\n",
    "N_BK7 = 1.5302 # Na 405nm\n",
    "\n",
    "class TheLayout(OpticalPath):\n",
    "    d_c: float # Poloha kolimační čočky (zafixuji aby odpovídala ohnisku)\n",
    "    f_c: float # Ohnisková vzdálenost kolimační čočky\n",
    "    d_f: float # Poloha fokusační čočky\n",
    "    f_f: float # Ohnisko fokusační čočky\n",
    "    d_cr: float # Poloha středu krystalu\n",
    "\n",
    "    COLIMATION_LENSES = {\n",
    "    25e-3: PlanoConvexLens(R=13.1e-3, n=N_BK7, d=11.7e-3),             # <--- Thorlabs LA1951-A, 25mm\n",
    "    35e-3: PlanoConvexLens(R=18e-3, n=N_BK7, d=7e-3),                  # <--- Thorlabs LA1027-A, 35mm\n",
    "    50e-3: PlanoConvexLens(R=25.8e-3, n=N_BK7, d=5.3e-3)               # <--- ThorLabs LA1131-A, 50mm\n",
    "    }\n",
    "\n",
    "    FOCUSING_LENSES = [100e-3, 125e-3, 150e-3, 200e-3, 250e-3, 300e-3, 400e-3]\n",
    "    \n",
    "    def build(self):\n",
    "        self._elements = []\n",
    "        colimation_lens = self.COLIMATION_LENSES[self.f_c]\n",
    "        self.d_c = colimation_lens.f\n",
    "        self.append(FreeSpace(self.d_c))\n",
    "        self.append(colimation_lens)                                        # <--- Kolimace\n",
    "\n",
    "        self.append(FreeSpace(self.d_f))\n",
    "        self.append(ThinLens(self.f_f))                                   # <--- Fokusace\n",
    "\n",
    "        self.append(FreeSpace(self.d_cr - CRYSTAL_LENGTH/2))              # <--- Krystal\n",
    "        self.append(FlatInterface(1, n_p))\n",
    "        self.append(FreeSpace(CRYSTAL_LENGTH/2))\n",
    "\n",
    "    def clone(self) -> TheLayout:\n",
    "        l = TheLayout()\n",
    "        l.d_c = self.d_c\n",
    "        l.f_c = self.f_c\n",
    "        l.d_f = self.d_f\n",
    "        l.f_f = self.f_f\n",
    "        l.d_cr = self.d_cr\n",
    "        return l\n",
    "\n",
    "    def __str__(self) -> str:\n",
    "        return f\"\"\"\n",
    "            d_col       =   {self.d_c},\n",
    "            f_col       =   {self.f_c},\n",
    "            d_focus     =   {self.d_f},\n",
    "            f_focus     =   {self.f_f},\n",
    "            d_crystal   =  {self.d_cr}\n",
    "        \"\"\"\n",
    "\n",
    "\n"
   ]
  },
  {
   "cell_type": "markdown",
   "metadata": {},
   "source": [
    "## Optimalizace\n",
    "Potřebujeme dosáhnout určité šířky krčku v krystalu (viz výpočty výše). K dispozici máme omezený počet čoček a mnoho stupňů volnosti tj. poloha kolimační čočky (d_c), ohnisko kolimační čočky (f_c), vzdálenost fokusační čočky (d_f), ohnisko fokusační čočky (f_f) a vzdálenost krystalu (d_cr). Jednoho stupně volnosti se lze zbavit předpokládáme-li vzdálenost kolimační čočky odpovídající jejému ohnisku. Zároveň se snažíme mít kolimační čočku s co nejmenším ohniskem, tudíž z dostupných čoček se nabízí pouze 3 25mm, 35mm a 50mm (už to je velice neoptimální). Pro fokusační čočky se omezíme na dostupné čočky v rozsahu od 100mm do 400mm. Takto máme tedy 21 možných setupů. \n",
    "\n",
    "Poslední 2 zbylé parametry d_f a d_cr tak již není těžké získat jelikož se na problém lze kouakt jako na funkci o těchto dvou proměných, která vrací opět 2 proměnné a to polohu krčku (w_loc) a jeho šířku (w_0). \n",
    "    $$\n",
    "    f: [d_f, d_{cr}] \\rightarrow [w_0, w_{loc}]\n",
    "    $$\n",
    "Na výstupní hodnoty máme podmínku a to aby se krček nacházel ve středu krystalu tj $L = d_c + d_f + d_cr + 1mm$ a $w_0$ odpovídala dříve spočtené optimálne šířce krčku v krystalu $w_0^{opt}$. Úloha hledání optimálně geometrie sestavy se tak redukuje na nalezení kořenů této funkce\n",
    "    $$\n",
    "    \\vec{O}(d_f, d_{cr}) = f(d_f, d_{cr}) - [w_0^{opt}, L] = 0\n",
    "    $$"
   ]
  },
  {
   "cell_type": "code",
   "execution_count": 38,
   "metadata": {},
   "outputs": [
    {
     "ename": "AssertionError",
     "evalue": "BUG! kod pod touto pdmínkou se nikdy nevykona! Stříli to tu na hovno hodnoty...",
     "output_type": "error",
     "traceback": [
      "\u001b[1;31m---------------------------------------------------------------------------\u001b[0m",
      "\u001b[1;31mAssertionError\u001b[0m                            Traceback (most recent call last)",
      "Input \u001b[1;32mIn [38]\u001b[0m, in \u001b[0;36m<cell line: 9>\u001b[1;34m()\u001b[0m\n\u001b[0;32m     21\u001b[0m     gauss_out \u001b[39m=\u001b[39m layout\u001b[39m.\u001b[39mpropagate(gauss_in)\n\u001b[0;32m     22\u001b[0m     \u001b[39mreturn\u001b[39;00m gauss_out\u001b[39m.\u001b[39mwaist_radius \u001b[39m-\u001b[39m w_p, layout\u001b[39m.\u001b[39mlength \u001b[39m-\u001b[39m gauss_out\u001b[39m.\u001b[39mwaist_location\n\u001b[1;32m---> 23\u001b[0m opt_result \u001b[39m=\u001b[39m root(O, [\u001b[39m0.2\u001b[39;49m, \u001b[39m0.4\u001b[39;49m], tol \u001b[39m=\u001b[39;49m \u001b[39m0.00001\u001b[39;49m)\n\u001b[0;32m     24\u001b[0m layout\u001b[39m.\u001b[39md_f, layout\u001b[39m.\u001b[39md_cr \u001b[39m=\u001b[39m opt_result\u001b[39m.\u001b[39mx\n\u001b[0;32m     25\u001b[0m \u001b[39mif\u001b[39;00m opt_result\u001b[39m.\u001b[39msuccess:\n",
      "File \u001b[1;32m~\\OneDrive\\Plocha\\škola\\páťák\\Diplomová práce\\codes\\layout\\env\\lib\\site-packages\\scipy\\optimize\\_root.py:234\u001b[0m, in \u001b[0;36mroot\u001b[1;34m(fun, x0, args, method, jac, tol, callback, options)\u001b[0m\n\u001b[0;32m    <a href='file:///c%3A/Users/david/OneDrive/Plocha/%C5%A1kola/p%C3%A1%C5%A5%C3%A1k/Diplomov%C3%A1%20pr%C3%A1ce/codes/layout/env/lib/site-packages/scipy/optimize/_root.py?line=230'>231</a>\u001b[0m         options\u001b[39m.\u001b[39msetdefault(\u001b[39m'\u001b[39m\u001b[39mfatol\u001b[39m\u001b[39m'\u001b[39m, np\u001b[39m.\u001b[39minf)\n\u001b[0;32m    <a href='file:///c%3A/Users/david/OneDrive/Plocha/%C5%A1kola/p%C3%A1%C5%A5%C3%A1k/Diplomov%C3%A1%20pr%C3%A1ce/codes/layout/env/lib/site-packages/scipy/optimize/_root.py?line=232'>233</a>\u001b[0m \u001b[39mif\u001b[39;00m meth \u001b[39m==\u001b[39m \u001b[39m'\u001b[39m\u001b[39mhybr\u001b[39m\u001b[39m'\u001b[39m:\n\u001b[1;32m--> <a href='file:///c%3A/Users/david/OneDrive/Plocha/%C5%A1kola/p%C3%A1%C5%A5%C3%A1k/Diplomov%C3%A1%20pr%C3%A1ce/codes/layout/env/lib/site-packages/scipy/optimize/_root.py?line=233'>234</a>\u001b[0m     sol \u001b[39m=\u001b[39m _root_hybr(fun, x0, args\u001b[39m=\u001b[39margs, jac\u001b[39m=\u001b[39mjac, \u001b[39m*\u001b[39m\u001b[39m*\u001b[39moptions)\n\u001b[0;32m    <a href='file:///c%3A/Users/david/OneDrive/Plocha/%C5%A1kola/p%C3%A1%C5%A5%C3%A1k/Diplomov%C3%A1%20pr%C3%A1ce/codes/layout/env/lib/site-packages/scipy/optimize/_root.py?line=234'>235</a>\u001b[0m \u001b[39melif\u001b[39;00m meth \u001b[39m==\u001b[39m \u001b[39m'\u001b[39m\u001b[39mlm\u001b[39m\u001b[39m'\u001b[39m:\n\u001b[0;32m    <a href='file:///c%3A/Users/david/OneDrive/Plocha/%C5%A1kola/p%C3%A1%C5%A5%C3%A1k/Diplomov%C3%A1%20pr%C3%A1ce/codes/layout/env/lib/site-packages/scipy/optimize/_root.py?line=235'>236</a>\u001b[0m     sol \u001b[39m=\u001b[39m _root_leastsq(fun, x0, args\u001b[39m=\u001b[39margs, jac\u001b[39m=\u001b[39mjac, \u001b[39m*\u001b[39m\u001b[39m*\u001b[39moptions)\n",
      "File \u001b[1;32m~\\OneDrive\\Plocha\\škola\\páťák\\Diplomová práce\\codes\\layout\\env\\lib\\site-packages\\scipy\\optimize\\_minpack_py.py:226\u001b[0m, in \u001b[0;36m_root_hybr\u001b[1;34m(func, x0, args, jac, col_deriv, xtol, maxfev, band, eps, factor, diag, **unknown_options)\u001b[0m\n\u001b[0;32m    <a href='file:///c%3A/Users/david/OneDrive/Plocha/%C5%A1kola/p%C3%A1%C5%A5%C3%A1k/Diplomov%C3%A1%20pr%C3%A1ce/codes/layout/env/lib/site-packages/scipy/optimize/_minpack_py.py?line=223'>224</a>\u001b[0m \u001b[39mif\u001b[39;00m \u001b[39mnot\u001b[39;00m \u001b[39misinstance\u001b[39m(args, \u001b[39mtuple\u001b[39m):\n\u001b[0;32m    <a href='file:///c%3A/Users/david/OneDrive/Plocha/%C5%A1kola/p%C3%A1%C5%A5%C3%A1k/Diplomov%C3%A1%20pr%C3%A1ce/codes/layout/env/lib/site-packages/scipy/optimize/_minpack_py.py?line=224'>225</a>\u001b[0m     args \u001b[39m=\u001b[39m (args,)\n\u001b[1;32m--> <a href='file:///c%3A/Users/david/OneDrive/Plocha/%C5%A1kola/p%C3%A1%C5%A5%C3%A1k/Diplomov%C3%A1%20pr%C3%A1ce/codes/layout/env/lib/site-packages/scipy/optimize/_minpack_py.py?line=225'>226</a>\u001b[0m shape, dtype \u001b[39m=\u001b[39m _check_func(\u001b[39m'\u001b[39;49m\u001b[39mfsolve\u001b[39;49m\u001b[39m'\u001b[39;49m, \u001b[39m'\u001b[39;49m\u001b[39mfunc\u001b[39;49m\u001b[39m'\u001b[39;49m, func, x0, args, n, (n,))\n\u001b[0;32m    <a href='file:///c%3A/Users/david/OneDrive/Plocha/%C5%A1kola/p%C3%A1%C5%A5%C3%A1k/Diplomov%C3%A1%20pr%C3%A1ce/codes/layout/env/lib/site-packages/scipy/optimize/_minpack_py.py?line=226'>227</a>\u001b[0m \u001b[39mif\u001b[39;00m epsfcn \u001b[39mis\u001b[39;00m \u001b[39mNone\u001b[39;00m:\n\u001b[0;32m    <a href='file:///c%3A/Users/david/OneDrive/Plocha/%C5%A1kola/p%C3%A1%C5%A5%C3%A1k/Diplomov%C3%A1%20pr%C3%A1ce/codes/layout/env/lib/site-packages/scipy/optimize/_minpack_py.py?line=227'>228</a>\u001b[0m     epsfcn \u001b[39m=\u001b[39m finfo(dtype)\u001b[39m.\u001b[39meps\n",
      "File \u001b[1;32m~\\OneDrive\\Plocha\\škola\\páťák\\Diplomová práce\\codes\\layout\\env\\lib\\site-packages\\scipy\\optimize\\_minpack_py.py:24\u001b[0m, in \u001b[0;36m_check_func\u001b[1;34m(checker, argname, thefunc, x0, args, numinputs, output_shape)\u001b[0m\n\u001b[0;32m     <a href='file:///c%3A/Users/david/OneDrive/Plocha/%C5%A1kola/p%C3%A1%C5%A5%C3%A1k/Diplomov%C3%A1%20pr%C3%A1ce/codes/layout/env/lib/site-packages/scipy/optimize/_minpack_py.py?line=21'>22</a>\u001b[0m \u001b[39mdef\u001b[39;00m \u001b[39m_check_func\u001b[39m(checker, argname, thefunc, x0, args, numinputs,\n\u001b[0;32m     <a href='file:///c%3A/Users/david/OneDrive/Plocha/%C5%A1kola/p%C3%A1%C5%A5%C3%A1k/Diplomov%C3%A1%20pr%C3%A1ce/codes/layout/env/lib/site-packages/scipy/optimize/_minpack_py.py?line=22'>23</a>\u001b[0m                 output_shape\u001b[39m=\u001b[39m\u001b[39mNone\u001b[39;00m):\n\u001b[1;32m---> <a href='file:///c%3A/Users/david/OneDrive/Plocha/%C5%A1kola/p%C3%A1%C5%A5%C3%A1k/Diplomov%C3%A1%20pr%C3%A1ce/codes/layout/env/lib/site-packages/scipy/optimize/_minpack_py.py?line=23'>24</a>\u001b[0m     res \u001b[39m=\u001b[39m atleast_1d(thefunc(\u001b[39m*\u001b[39;49m((x0[:numinputs],) \u001b[39m+\u001b[39;49m args)))\n\u001b[0;32m     <a href='file:///c%3A/Users/david/OneDrive/Plocha/%C5%A1kola/p%C3%A1%C5%A5%C3%A1k/Diplomov%C3%A1%20pr%C3%A1ce/codes/layout/env/lib/site-packages/scipy/optimize/_minpack_py.py?line=24'>25</a>\u001b[0m     \u001b[39mif\u001b[39;00m (output_shape \u001b[39mis\u001b[39;00m \u001b[39mnot\u001b[39;00m \u001b[39mNone\u001b[39;00m) \u001b[39mand\u001b[39;00m (shape(res) \u001b[39m!=\u001b[39m output_shape):\n\u001b[0;32m     <a href='file:///c%3A/Users/david/OneDrive/Plocha/%C5%A1kola/p%C3%A1%C5%A5%C3%A1k/Diplomov%C3%A1%20pr%C3%A1ce/codes/layout/env/lib/site-packages/scipy/optimize/_minpack_py.py?line=25'>26</a>\u001b[0m         \u001b[39mif\u001b[39;00m (output_shape[\u001b[39m0\u001b[39m] \u001b[39m!=\u001b[39m \u001b[39m1\u001b[39m):\n",
      "Input \u001b[1;32mIn [38]\u001b[0m, in \u001b[0;36mO\u001b[1;34m(x)\u001b[0m\n\u001b[0;32m     16\u001b[0m layout\u001b[39m.\u001b[39md_f, layout\u001b[39m.\u001b[39md_cr \u001b[39m=\u001b[39m x\n\u001b[0;32m     17\u001b[0m layout\u001b[39m.\u001b[39mbuild()\n\u001b[1;32m---> 18\u001b[0m \u001b[39massert\u001b[39;00m \u001b[39mFalse\u001b[39;00m, \u001b[39m\"\u001b[39m\u001b[39mBUG! kod pod touto pdmínkou se nikdy nevykona! Stříli to tu na hovno hodnoty...\u001b[39m\u001b[39m\"\u001b[39m\n\u001b[0;32m     19\u001b[0m \u001b[39mif\u001b[39;00m \u001b[39mnot\u001b[39;00m is_valid_layout(layout):\n\u001b[0;32m     20\u001b[0m     \u001b[39mreturn\u001b[39;00m float_info\u001b[39m.\u001b[39mmax, float_info\u001b[39m.\u001b[39mmax\n",
      "\u001b[1;31mAssertionError\u001b[0m: BUG! kod pod touto pdmínkou se nikdy nevykona! Stříli to tu na hovno hodnoty..."
     ]
    }
   ],
   "source": [
    "from scipy.optimize import root\n",
    "from sys import float_info\n",
    "def is_valid_layout(l: TheLayout) -> bool:\n",
    "    [l.d_c, l.d_f, l.d_cr] = sorted([l.d_c, l.d_f, l.d_cr])\n",
    "\n",
    "\n",
    "gauss_in = fiber_out                    \n",
    "layouts = []\n",
    "for f_c in TheLayout.COLIMATION_LENSES:\n",
    "    layout = TheLayout()\n",
    "    layout.f_c = f_c\n",
    "    for f_f in TheLayout.FOCUSING_LENSES:\n",
    "        layout.f_f = f_f\n",
    "        def O(x: tuple[float, float]) -> tuple[float, float]:\n",
    "            \"\"\"x: [d_f, d_cr] --> y: [w_0 - w_0^opt, w_loc - L]\"\"\"\n",
    "            layout.d_f, layout.d_cr = x\n",
    "            layout.build()\n",
    "            assert False, \"BUG! kod pod touto pdmínkou se nikdy nevykona! Stříli to tu na hovno hodnoty...\"\n",
    "            if not is_valid_layout(layout):\n",
    "                return float_info.max, float_info.max\n",
    "            gauss_out = layout.propagate(gauss_in)\n",
    "            return gauss_out.waist_radius - w_p, layout.length - gauss_out.waist_location\n",
    "        opt_result = root(O, [0.2, 0.4], tol = 0.00001)\n",
    "        layout.d_f, layout.d_cr = opt_result.x\n",
    "        if opt_result.success:\n",
    "            layouts.append(layout.clone())\n",
    "\n",
    "if len(layouts) == 0:\n",
    "    print(\"Bohužel se nepodařilo nalést odpovídajcí sestavu :(\")\n",
    "else:         \n",
    "    for l in layouts:\n",
    "        print(l)"
   ]
  },
  {
   "cell_type": "code",
   "execution_count": null,
   "metadata": {},
   "outputs": [],
   "source": []
  }
 ],
 "metadata": {
  "interpreter": {
   "hash": "d65f8af9b1347936d5c0a715a1a101b7602968bee42a1bc2161adfc924f1cbb0"
  },
  "kernelspec": {
   "display_name": "Python 3.9.0 64-bit",
   "language": "python",
   "name": "python3"
  },
  "language_info": {
   "codemirror_mode": {
    "name": "ipython",
    "version": 3
   },
   "file_extension": ".py",
   "mimetype": "text/x-python",
   "name": "python",
   "nbconvert_exporter": "python",
   "pygments_lexer": "ipython3",
   "version": "3.9.0"
  },
  "orig_nbformat": 4
 },
 "nbformat": 4,
 "nbformat_minor": 2
}
