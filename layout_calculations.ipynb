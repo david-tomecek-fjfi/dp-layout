{
 "cells": [
  {
   "cell_type": "code",
   "execution_count": 1,
   "metadata": {},
   "outputs": [],
   "source": [
    "import matplotlib.pyplot as plt\n",
    "import numpy as np\n",
    "from optix import *\n",
    "\n",
    "def custom_str_repr(gb: GaussianBeam) -> str:\n",
    "    return f\"\"\"\n",
    "    waist_loc\\t=\\t{gb.waist_location*10**2} cm\n",
    "    waist_rad\\t=\\t{gb.waist_radius*10**3} mm\n",
    "    ray_range\\t=\\t{gb.rayleigh_range*10**3} mm\n",
    "    divergence\\t=\\t{gb.divergence*10**3} mrad\n",
    "    \"\"\"\n",
    "GaussianBeam.__str__ = custom_str_repr"
   ]
  },
  {
   "cell_type": "markdown",
   "metadata": {},
   "source": [
    "# Gaussovský svazek na výstupu z vlákna\n",
    "Vlákno je označeno OE-000592. Bohužel na stránce TOPTICY žádné takové nanabízejí. Proto počítám se sepcifikami vláken https://www.toptica.com/products/optical-isolators-photonicals/photonicals/optical-fibers.\n",
    "\n",
    "Pro získání Rayleigho vzdálenosti využit vzorec https://www.thorlabs.com/newgrouppage9.cfm?objectgroup_id=14204"
   ]
  },
  {
   "cell_type": "code",
   "execution_count": 2,
   "metadata": {},
   "outputs": [
    {
     "name": "stdout",
     "output_type": "stream",
     "text": [
      "\n",
      "    waist_loc\t=\t0 cm\n",
      "    waist_rad\t=\t0.0017500000000000003 mm\n",
      "    ray_range\t=\t0.023755870374367265 mm\n",
      "    divergence\t=\t73.66600223110582 mrad\n",
      "    \n"
     ]
    },
    {
     "data": {
      "text/plain": [
       "Text(0, 0.5, 'Beam diameter [mm]')"
      ]
     },
     "execution_count": 2,
     "metadata": {},
     "output_type": "execute_result"
    },
    {
     "data": {
      "image/png": "[encoded data removed]",
      "text/plain": [
       "<Figure size 432x288 with 1 Axes>"
      ]
     },
     "metadata": {
      "needs_background": "light"
     },
     "output_type": "display_data"
    }
   ],
   "source": [
    "MFD = 3.5e-6\n",
    "NA = 0.07\n",
    "WAVE_LENGTH = 405e-9\n",
    "zr = math.pi / WAVE_LENGTH * (MFD / 2)**2   \n",
    "fiber_out = GaussianBeam(WAVE_LENGTH, zr=zr)\n",
    "print(fiber_out)\n",
    "\n",
    "\n",
    "z = np.linspace(0, 0.1, 100)\n",
    "w = fiber_out.beam_radius(z)\n",
    "plt.plot(z*10**2, w*10**3)\n",
    "plt.xlabel(\"Distance [cm]\")\n",
    "plt.ylabel(\"Beam diameter [mm]\")\n"
   ]
  },
  {
   "cell_type": "markdown",
   "metadata": {},
   "source": [
    "# Šíření svazku krystalem\n",
    "Předpoklad šíření podél osy $x$ přičemž čerpání je polarizováno horizontálně podél osy $y$. Posléze se generuje horizontální ($x$) a vertikální ($z$) fotony. Krystal od firmy Raicol má dimenze $1\\times1\\times2 mm$ a periodu pĺování $\\Lambda = 10.025 \\mu m$. Krystal KTP je dvojosý materiál s index lomu podél krystalografický os ($\\lambda$ je v $\\mu m$)\n",
    "    $$ \n",
    "        n_x^2 = 3.29100 + \\frac{0.04140}{\\lambda^2 - 0.03978} + \\frac{9.35522}{\\lambda^2 - 31.45571} \\\\\n",
    "        n_y^2 = 3.45018 + \\frac{0.04341}{\\lambda^2 - 0.04597} + \\frac{16.98825}{\\lambda^2 - 39.43799} \\\\\n",
    "        n_z^2 = 4.59423 + \\frac{0.06206}{\\lambda^2 - 0.04763} + \\frac{110.80672}{\\lambda^2 - 86.12171}\n",
    "    $$\n",
    "\n",
    "\n",
    "Dle https://journals.aps.org/pra/abstract/10.1103/PhysRevA.81.053805 dochází k nejoptimálnější generaci SPDC při hodnotě kofokálního parametru $\\xi_s \\approx \\xi_i \\approx \\xi_p \\approx 2.84$. Přičemž platí, že \n",
    "    $$\\xi_j = \\frac{L}{k_j w_j^2},$$\n",
    "kde $L$ je délka krystalu, $k_j$ je odpovídající vlnové číslo a $w_j$ je velikost krčku Gaussovského svazku. Tedy podmínka na velikost krčku je \n",
    "    $$w_j = \\sqrt{\\frac{L}{k_j \\xi_j}} \\approx \\sqrt{\\frac{L}{2.84 \\cdot k_j }}, \\quad k_j = \\frac{\\omega_j}{c} \\cdot n_j(\\omega_j).$$\n"
   ]
  },
  {
   "cell_type": "code",
   "execution_count": 3,
   "metadata": {},
   "outputs": [],
   "source": [
    "LIGHT_SPEED = 299_792_458\n",
    "def KRP_n_x(wl) -> float:\n",
    "    return math.sqrt(3.29100 + 0.04140 / (wl**2 - 0.03978) + 9.35522 / (wl**2 - 31.45571))\n",
    "\n",
    "def KRP_n_y(wl) -> float:\n",
    "    return math.sqrt(3.45018 + 0.04341 / (wl**2 - 0.04597) + 16.98825 / (wl**2 - 39.43799))\n",
    "\n",
    "def KRP_n_z(wl) -> float:\n",
    "    return math.sqrt(4.59423 + 0.06206 / (wl**2 - 0.04763) + 110.80672 / (wl**2 - 86.12171))\n",
    "\n",
    "def to_freq(wl) -> float:\n",
    "    \"\"\"Converts wavelength to angular frequency\"\"\"\n",
    "    return 2 * math.pi * LIGHT_SPEED / wl\n",
    "\n",
    "def to_wavelength(freq) -> float:\n",
    "    \"\"\"Converts angular frequency to wavelength\"\"\"\n",
    "    return 2 * math.pi * LIGHT_SPEED / freq"
   ]
  },
  {
   "cell_type": "code",
   "execution_count": 21,
   "metadata": {},
   "outputs": [
    {
     "name": "stdout",
     "output_type": "stream",
     "text": [
      "Optimal focus in crystal of length 2.0mm:\n",
      "\n",
      "    n_p: 1.4405242023903018, omega_p: 4650991524219391.0s^-1, k_p: 22348346.921223056m^-1, w_p: 5.613492226620463 um\n",
      "    n_s: 1.4405242023903018, omega_s: 2325495762109695.5s^-1, k_s: 11174173.460611528m^-1, w_s: 7.938676839162602 um\n",
      "    n_i: 1.4158532155790764, omega_i: 2325495762109695.5s^-1, k_i: 10982800.149690649m^-1, w_i: 8.007543144756472 um\n",
      "\n"
     ]
    }
   ],
   "source": [
    "L = 2e-3 # 2cm krystal od Raicolu\n",
    "FOCAL_PARAM = 2.84 #optimum 2.84\n",
    "\n",
    "n_p = KRP_n_y(WAVE_LENGTH*10**(-3)) # Pump je horizontálne polarizovaný, vkládám v mikrometrech\n",
    "n_s = KRP_n_y(WAVE_LENGTH*10**(-3)*2)\n",
    "n_i = KRP_n_z(WAVE_LENGTH*10**(-3)*2)\n",
    "\n",
    "omega_p = to_freq(WAVE_LENGTH)\n",
    "omega_s = to_freq(WAVE_LENGTH * 2)\n",
    "omega_i = to_freq(WAVE_LENGTH * 2)\n",
    "\n",
    "k_p = omega_p / LIGHT_SPEED * n_p\n",
    "k_s = omega_s / LIGHT_SPEED * n_s\n",
    "k_i = omega_i / LIGHT_SPEED * n_i\n",
    "\n",
    "w_p = math.sqrt(L / (FOCAL_PARAM * k_p))\n",
    "w_s = math.sqrt(L / (FOCAL_PARAM * k_s))\n",
    "w_i = math.sqrt(L / (FOCAL_PARAM * k_i))\n",
    "\n",
    "focus_info = f\"\"\"\n",
    "    n_p: {n_p}, omega_p: {omega_p}s^-1, k_p: {k_p}m^-1, w_p: {w_p*10**6} um\n",
    "    n_s: {n_s}, omega_s: {omega_s}s^-1, k_s: {k_s}m^-1, w_s: {w_s*10**6} um\n",
    "    n_i: {n_i}, omega_i: {omega_i}s^-1, k_i: {k_i}m^-1, w_i: {w_i*10**6} um\n",
    "\"\"\"\n",
    "print(f\"Optimal focus in crystal of length {L*10**3}mm:\")\n",
    "print(focus_info)"
   ]
  },
  {
   "cell_type": "markdown",
   "metadata": {},
   "source": [
    "# Propagace systémem"
   ]
  },
  {
   "cell_type": "code",
   "execution_count": 24,
   "metadata": {},
   "outputs": [
    {
     "name": "stdout",
     "output_type": "stream",
     "text": [
      "0.5431\n",
      "\n",
      "    waist_loc\t=\t43.4110585347669 cm\n",
      "    waist_rad\t=\t0.030621461064400068 mm\n",
      "    ray_range\t=\t7.27355398939188 mm\n",
      "    divergence\t=\t4.209972333890689 mrad\n",
      "    \n"
     ]
    }
   ],
   "source": [
    "# Kontrolní olomoucký systém\n",
    "gauss_in = fiber_out\n",
    "op = OpticalPath()\n",
    "\n",
    "op.append(FreeSpace(10e-3))\n",
    "op.append(ThinLens(10e-3))\n",
    "\n",
    "op.append(FreeSpace(249e-3))\n",
    "op.append(ThinLens(175e-3))\n",
    "op.append(FreeSpace(284.1e-3))\n",
    "\n",
    "# op.append(PlanarBoundary(n_p))\n",
    "# op.append(PropagationInMedia(1e-3, n_p))\n",
    "\n",
    "gauss_out = op.propagate(gauss_in)\n",
    "\n",
    "print(op.length)\n",
    "print(gauss_out)\n",
    "\n"
   ]
  },
  {
   "cell_type": "code",
   "execution_count": 14,
   "metadata": {},
   "outputs": [],
   "source": [
    "def propagate_in_system(d1, f, d2) -> tuple[GaussianBeam, float]:\n",
    "    \"\"\"\n",
    "    System with fixed colimation lens, though variable --d1-->(f)--d2-->. \n",
    "    \n",
    "    Returns output GaussianBeam and length of the optical path\n",
    "    \"\"\"\n",
    "    gauss_in = fiber_out\n",
    "    op = OpticalPath()\n",
    "    \n",
    "    # Kolimace\n",
    "    op.append(FreeSpace(d=4.9e-2))                              # <--- Kolimační vzdálenost\n",
    "    # op.append(PlanoConvexLens(R=18e-3, n=1.5168, d=7e-3))     # <--- Kolimační čočka (Thorlabs LA1027-A, 35mm)\n",
    "    op.append(PlanoConvexLens(R=25.8e-3, n=1.5168, d=5.3e-3))   # <--- Kolimační čočka (ThorLabs LA1131-A, 50mm)\n",
    "    \n",
    "    # Fokusace do krystalu\n",
    "    op.append(FreeSpace(d1))                                # <--- STUPEŇ VOLNOST #1                                     \n",
    "    op.append(ThinLens(f))                                  # <--- Fokusační čočka (150mm)\n",
    "    op.append(FreeSpace(d2))                                # <--- STUPEŇ VOLNOST #2   \n",
    "\n",
    "    # Vstupuje do krystalu\n",
    "    op.append(PlanarBoundary(n_p))                          \n",
    "    op.append(PropagationInMedia(L/2, n_p))\n",
    "\n",
    "    gauss_out = op.propagate(gauss_in)\n",
    "    length_out = op.length\n",
    "    del op\n",
    "    return gauss_out, length_out"
   ]
  },
  {
   "cell_type": "code",
   "execution_count": 15,
   "metadata": {},
   "outputs": [
    {
     "name": "stdout",
     "output_type": "stream",
     "text": [
      "    fjac: array([[-3.01317328e-04, -9.99999955e-01],\n",
      "       [ 9.99999955e-01, -3.01317328e-04]])\n",
      "     fun: array([1.35525272e-20, 1.11022302e-16])\n",
      " message: 'The solution converged.'\n",
      "    nfev: 10\n",
      "     qtf: array([-1.78026491e-11,  3.21987910e-18])\n",
      "       r: array([-1.86266810e-02, -1.43705591e+00, -4.34056714e-04])\n",
      "  status: 1\n",
      " success: True\n",
      "       x: array([0.49095497, 0.1546144 ])\n"
     ]
    }
   ],
   "source": [
    "# Optimization \n",
    "from scipy.optimize import minimize, root\n",
    "def optimization_function(d: tuple[float, float]) -> tuple[float, float]:\n",
    "    gauss_out, length = propagate_in_system(d[0], 175e-3, d[1])\n",
    "    return gauss_out.waist_radius - w_p, length - gauss_out.waist_location\n",
    "\n",
    "o = root(optimization_function, [1, 1])\n",
    "print(o)"
   ]
  },
  {
   "cell_type": "code",
   "execution_count": null,
   "metadata": {},
   "outputs": [],
   "source": []
  }
 ],
 "metadata": {
  "interpreter": {
   "hash": "d65f8af9b1347936d5c0a715a1a101b7602968bee42a1bc2161adfc924f1cbb0"
  },
  "kernelspec": {
   "display_name": "Python 3.9.0 64-bit",
   "language": "python",
   "name": "python3"
  },
  "language_info": {
   "codemirror_mode": {
    "name": "ipython",
    "version": 3
   },
   "file_extension": ".py",
   "mimetype": "text/x-python",
   "name": "python",
   "nbconvert_exporter": "python",
   "pygments_lexer": "ipython3",
   "version": "3.9.0"
  },
  "orig_nbformat": 4
 },
 "nbformat": 4,
 "nbformat_minor": 2
}
